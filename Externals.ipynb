{
 "cells": [
  {
   "cell_type": "code",
   "execution_count": null,
   "metadata": {},
   "outputs": [
    {
     "name": "stdout",
     "output_type": "stream",
     "text": [
      "<_io.TextIOWrapper name='my_file.txt' mode='r' encoding='cp1252'>\n",
      "['Kingdom\\n', 'worlds\\n', 'Bird']\n"
     ]
    }
   ],
   "source": [
    "file_1 = open(\"my_file.txt\",\"r\") #Second para is a mod called read open the file for reading. this is by default.\n",
    "print(file_1)\n",
    "# print(file_1.read())\n",
    "# print(file_1.readline()) #Only reads one line, default it pass \\n line so thats how it works.\n",
    "print(file_1.readlines()) #this returns a list\n",
    "file_1.close() #mandotaroy or resources won't be available"
   ]
  },
  {
   "cell_type": "code",
   "execution_count": 11,
   "metadata": {},
   "outputs": [
    {
     "name": "stdout",
     "output_type": "stream",
     "text": [
      "Kingdom\n",
      "worlds\n",
      "Bird\n"
     ]
    }
   ],
   "source": [
    "with open(\"my_file.txt\",\"r\") as file:\n",
    "    content = file.read()\n",
    "    print(content)\n",
    "    \n",
    "#with command will automatically close the file after operations."
   ]
  }
 ],
 "metadata": {
  "kernelspec": {
   "display_name": "Python 3",
   "language": "python",
   "name": "python3"
  },
  "language_info": {
   "codemirror_mode": {
    "name": "ipython",
    "version": 3
   },
   "file_extension": ".py",
   "mimetype": "text/x-python",
   "name": "python",
   "nbconvert_exporter": "python",
   "pygments_lexer": "ipython3",
   "version": "3.13.0"
  }
 },
 "nbformat": 4,
 "nbformat_minor": 2
}

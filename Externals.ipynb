{
 "cells": [
  {
   "cell_type": "code",
   "execution_count": null,
   "metadata": {},
   "outputs": [
    {
     "name": "stdout",
     "output_type": "stream",
     "text": [
      "<_io.TextIOWrapper name='my_file.txt' mode='r' encoding='cp1252'>\n",
      "['Kingdom\\n', 'worlds\\n', 'Bird']\n"
     ]
    }
   ],
   "source": [
    "file_1 = open(\"my_file.txt\",\"r\") #Second para is a mod called read open the file for reading. this is by default.\n",
    "print(file_1)\n",
    "# print(file_1.read())\n",
    "# print(file_1.readline()) #Only reads one line, default it pass \\n line so thats how it works.\n",
    "print(file_1.readlines()) #this returns a list\n",
    "file_1.close() #mandotaroy or resources won't be available"
   ]
  },
  {
   "cell_type": "code",
   "execution_count": 11,
   "metadata": {},
   "outputs": [
    {
     "name": "stdout",
     "output_type": "stream",
     "text": [
      "Kingdom\n",
      "worlds\n",
      "Bird\n"
     ]
    }
   ],
   "source": [
    "with open(\"my_file.txt\",\"r\") as file:\n",
    "    content = file.read()\n",
    "    print(content)\n",
    "    \n",
    "#with command will automatically close the file after operations."
   ]
  },
  {
   "cell_type": "code",
   "execution_count": null,
   "metadata": {},
   "outputs": [
    {
     "name": "stdout",
     "output_type": "stream",
     "text": [
      "Hello world\n",
      "this is our python class\n"
     ]
    }
   ],
   "source": [
    "#file read write and read\n",
    "with open(\"hello.txt\",\"w\") as file:\n",
    "    content2 = file.write(\"Hello world\\nthis is our python class\") #if you change this, the second time it runs and replaces the entire text.\n",
    "    \n",
    "with open(\"hello.txt\",\"r\") as file:\n",
    "    print(file.read())"
   ]
  },
  {
   "cell_type": "code",
   "execution_count": 29,
   "metadata": {},
   "outputs": [
    {
     "name": "stdout",
     "output_type": "stream",
     "text": [
      "Hello world\n",
      "This is our python class\n",
      "Hello world\n",
      "This is our python class\n",
      "This is our world\n"
     ]
    }
   ],
   "source": [
    "#file read write and read\n",
    "with open(\"hello.txt\",\"w\") as file:\n",
    "    lst_1 = [\"Hello world\\n\", \"This is our python class\"]\n",
    "    content2 = file.writelines(lst_1)\n",
    "    \n",
    "with open(\"hello.txt\",\"r\") as file:\n",
    "    print(file.read())\n",
    "\n",
    "with open(\"hello.txt\",\"a\") as file: #append mod updates without destroying\n",
    "    file.write(\"\\nThis is our world\")\n",
    "    \n",
    "with open(\"hello.txt\",\"r\") as file:\n",
    "    print(file.read())"
   ]
  },
  {
   "cell_type": "code",
   "execution_count": null,
   "metadata": {},
   "outputs": [],
   "source": [
    "#implement a simple contact managment system\n",
    "\n",
    "#create a programe that stores and manage contacts in a file named \"contacts.txt\"\n",
    "#each contact entry should include name, phone, and email\n",
    "\n",
    "#features to implement\n",
    "    #add a new contact\n",
    "    #read and display all contacts from the file\n",
    "    #exit the program\n",
    "    \n",
    "#data format - Jhon, 0710086875, jhon@example.com\n",
    "#Also a menu like\n",
    "    #enter option 1 to add a new content\n",
    "    #enter option 2 to add a view contacts\n",
    "    #enter option 3 to exit program\n",
    "    \n",
    "def display_menu():\n",
    "    print(\"Enter option 1 to add a new contact\")\n",
    "    print(\"Enter option 2 to view contacts\")\n",
    "    print(\"Enter option 3 to exit program\")\n",
    "    print(\"\\n\")\n",
    "\n",
    "def add_contact():\n",
    "    name = input(\"Enter name: \")\n",
    "    phone = input(\"Enter phone number: \")\n",
    "    email = input(\"Enter email: \")\n",
    "\n",
    "    with open(\"contacts.txt\", \"a\") as file:\n",
    "        file.write(f\"{name}, {phone}, {email}\\n\")\n",
    "    print(\"Contact added successfully!\")\n",
    "\n",
    "def view_contacts():\n",
    "    try:\n",
    "        with open(\"contacts.txt\", \"r\") as file:\n",
    "            contacts = file.readlines()\n",
    "            if not contacts:\n",
    "                print(\"No contacts found.\")\n",
    "            else:\n",
    "                print(\"Contacts:\")\n",
    "                for contact in contacts:\n",
    "                    print(contact.strip())\n",
    "    except FileNotFoundError:\n",
    "        print(\"No contacts file found. Please add a contact first.\")\n",
    "\n",
    "while True:\n",
    "    display_menu()\n",
    "    choice = input(\"Enter your choice: \")\n",
    "    \n",
    "    if choice == \"1\":\n",
    "        add_contact()\n",
    "    elif choice == \"2\":\n",
    "        view_contacts()\n",
    "    elif choice == \"3\":\n",
    "        print(\"Exiting program. Goodbye!\")\n",
    "        break\n",
    "    else:\n",
    "        print(\"Invalid option, please try again.\")\n",
    "\n",
    "    \n"
   ]
  },
  {
   "cell_type": "code",
   "execution_count": null,
   "metadata": {},
   "outputs": [
    {
     "name": "stdout",
     "output_type": "stream",
     "text": [
      "{'fruit': 'Apple', 'size': 'Large', 'color': 'Red'} <class 'dict'>\n"
     ]
    }
   ],
   "source": [
    "#Read Json\n",
    "import json\n",
    "\n",
    "json_file_path = 'example_1.json'\n",
    "\n",
    "with open(json_file_path, 'r') as json_file:\n",
    "    data = json.load(json_file)\n",
    "    \n",
    "print(data,type(data))"
   ]
  },
  {
   "cell_type": "code",
   "execution_count": 12,
   "metadata": {},
   "outputs": [
    {
     "name": "stdout",
     "output_type": "stream",
     "text": [
      "JSON Data has been written\n"
     ]
    }
   ],
   "source": [
    "import json\n",
    "\n",
    "data = {\n",
    "    \"name\":\"Jhon Nash\",\n",
    "    \"age\":30,\n",
    "    \"city\":\"New York\"\n",
    "}\n",
    "\n",
    "json_file_path = 'example_1.json'\n",
    "\n",
    "with open(json_file_path, 'w') as json_file:\n",
    "    #Serialize\n",
    "    json_data = json.dumps(data, indent=4)\n",
    "    \n",
    "    #Write the JSON-formatted string to the file\n",
    "    json_file.write(json_data)\n",
    "\n",
    "print(f\"JSON Data has been written\")"
   ]
  },
  {
   "cell_type": "code",
   "execution_count": null,
   "metadata": {},
   "outputs": [
    {
     "name": "stdout",
     "output_type": "stream",
     "text": [
      "Alice\n",
      "Charlie\n",
      "John Doe\n",
      "shalendri\n",
      "Shenan\n"
     ]
    }
   ],
   "source": [
    "#you are given a Json file named students .json wich contains information about students and their grades. your task is to\n",
    "\n",
    "    #read the json file\n",
    "    #display the name of all students who scored above 75\n",
    "    #add a new student record to the file\n",
    "    #save the updated data back to the json file\n",
    "    \n",
    "import json\n",
    "\n",
    "filename = 'student.json'\n",
    "\n",
    "with open(filename, 'r') as file:\n",
    "    students = json.load(file)\n",
    "    \n",
    "name = input(\"Enter a name: \")\n",
    "grade = int(input(\"Enter a grade:\"))\n",
    "\n",
    "new_student = {\n",
    "    \"name\": name,\n",
    "    \"grade\": grade\n",
    "}\n",
    "\n",
    "students.append(new_student)\n",
    "\n",
    "with open(filename, 'w') as file:\n",
    "    json.dump(students, file, indent=4)\n",
    "\n",
    "for student in students:\n",
    "    if student['grade'] > 75:\n",
    "        print(student['name'])\n",
    "        \n",
    "\n",
    "\n",
    "    "
   ]
  },
  {
   "cell_type": "code",
   "execution_count": null,
   "metadata": {},
   "outputs": [],
   "source": [
    "import csv\n",
    "\n",
    "csv_file_path = 'customers-100.csv'\n",
    "\n",
    "\n",
    "with open(csv_file_path, 'r', newline='') as csv_file:\n",
    "    csv_reader = csv.reader(csv_file)\n",
    "    \n",
    "    for row in csv_reader:\n",
    "        print(row,type(row))\n",
    "    \n",
    "print(csv_reader,type(csv_reader))\n",
    "\n",
    "\n"
   ]
  },
  {
   "cell_type": "code",
   "execution_count": 52,
   "metadata": {},
   "outputs": [
    {
     "name": "stdout",
     "output_type": "stream",
     "text": [
      "CSV data has been written to my_file.csv\n",
      "\n",
      "['Name', 'Age', 'City']\n",
      "['Jhon Doe', '30', 'New York']\n",
      "['Jane Smith', '28', 'Los Angeles']\n",
      "['Bob Jhonson', '35', 'Chicago']\n"
     ]
    }
   ],
   "source": [
    "import csv                                                                                                                                       #csv writing\n",
    "\n",
    "csv_file_path = 'my_file.csv'\n",
    "\n",
    "\n",
    "data = [\n",
    "    {\"Name\":\"Jhon Doe\", \"Age\":30, \"City\":\"New York\"},\n",
    "    {\"Name\":\"Jane Smith\", \"Age\":28, \"City\":\"Los Angeles\"},\n",
    "    {\"Name\":\"Bob Jhonson\", \"Age\":35, \"City\":\"Chicago\"}\n",
    "]\n",
    "\n",
    "field_names = [\"Name\",\"Age\",\"City\"]\n",
    "\n",
    "with open(csv_file_path,\"w\",newline=\"\") as file:\n",
    "    #create csv writer obj\n",
    "    csv_writer = csv.DictWriter(file, fieldnames=field_names)\n",
    "    \n",
    "    #Write the header (column names) to the CSV file\n",
    "    csv_writer.writeheader()\n",
    "    #Write the data to the CSV file\n",
    "    for row in data:\n",
    "        csv_writer.writerow(row)\n",
    "\n",
    "print(f\"CSV data has been written to {csv_file_path}\\n\")\n",
    "\n",
    "#Read\n",
    "with open(csv_file_path, 'r', newline='') as csv_file:\n",
    "    csv_reader = csv.reader(csv_file)\n",
    "    \n",
    "    for row in csv_reader:\n",
    "        print(row)"
   ]
  },
  {
   "cell_type": "code",
   "execution_count": null,
   "metadata": {},
   "outputs": [
    {
     "name": "stdout",
     "output_type": "stream",
     "text": [
      "{'Name': 'Jhon Doe', 'Age': '30', 'City': 'New York'} <class 'dict'>\n",
      "{'Name': 'Jane Smith', 'Age': '28', 'City': 'Los Angeles'} <class 'dict'>\n",
      "{'Name': 'Bob Jhonson', 'Age': '35', 'City': 'Chicago'} <class 'dict'>\n"
     ]
    }
   ],
   "source": [
    "import csv\n",
    "\n",
    "#dict reader create a dictionary using data\n",
    "with open('my_file.csv',\"r\") as file:\n",
    "    rows = csv.DictReader(file)\n",
    "    for row in rows:\n",
    "        print(row,type(row))"
   ]
  },
  {
   "cell_type": "code",
   "execution_count": null,
   "metadata": {},
   "outputs": [],
   "source": [
    "#You are tasked with creating a python program to manage the compaines employee records stored in csv files.\n",
    "\n",
    "# the program should read the employee details from csv file\n",
    "# filter the record based on the condition and write the filterd record to a new csv file.\n",
    "\n",
    "    # 1. input file Employee.csv\n",
    "    # 2. Contains the following field employeeId,name,department,salary\n",
    "    # 3. output file High_Salary_Employees.csv, you will create this file and it should contain records of employees whos salaries are above 57,000.The fileds should remain the same.\n",
    "    \n",
    "# tasks\n",
    "    #read the input file, use csv .reader to read employees .csv and display all the records on console.\n",
    "    #filter the records, identify employees with the salary greater  than 57000\n",
    "    #write the filtered record, use csv,dictwriter o write the filtered records to a new file named high salary emloyees.csv\n"
   ]
  },
  {
   "cell_type": "code",
   "execution_count": null,
   "metadata": {},
   "outputs": [
    {
     "name": "stdout",
     "output_type": "stream",
     "text": [
      "['EmployeeId', 'Name', 'Department', 'Salary']\n",
      "['1', 'Jhon', 'IT', '60000']\n",
      "['2', 'Jane', 'HR', '55000']\n",
      "['3', 'Brown', 'Finance', '70000']\n",
      "[{'EmployeeId': '1', 'Name': 'Jhon', 'Department': 'IT', 'Salary': '60000'}, {'EmployeeId': '3', 'Name': 'Brown', 'Department': 'Finance', 'Salary': '70000'}]\n"
     ]
    }
   ],
   "source": [
    "import csv\n",
    "\n",
    "employee_csv = \"Employee.csv\"\n",
    "\n",
    "with open(employee_csv,\"r\",newline='') as employee_file:\n",
    "    employee_reader = csv.reader(employee_file)\n",
    "        \n",
    "    for row in employee_reader:\n",
    "        print(row)\n",
    "        \n",
    "\n",
    "filtered_employees = []\n",
    "\n",
    "\n",
    "with open(employee_csv,\"r\",newline='') as employee_file:\n",
    "    employee_reader = csv.DictReader(employee_file)\n",
    "    \n",
    "    for row in employee_reader:\n",
    "        if int(row[\"Salary\"])>57000:\n",
    "            filtered_employees.append(row)\n",
    "\n",
    "print(filtered_employees)\n",
    "\n",
    "\n"
   ]
  },
  {
   "cell_type": "code",
   "execution_count": 82,
   "metadata": {},
   "outputs": [
    {
     "name": "stdout",
     "output_type": "stream",
     "text": [
      "10\n"
     ]
    }
   ],
   "source": [
    "#Nested Function\n",
    "\n",
    "def outer(x):\n",
    "    def inner(y):\n",
    "        return x+y\n",
    "    return inner\n",
    "\n",
    "function = outer(5)\n",
    "print(function(5))"
   ]
  }
 ],
 "metadata": {
  "kernelspec": {
   "display_name": "Python 3",
   "language": "python",
   "name": "python3"
  },
  "language_info": {
   "codemirror_mode": {
    "name": "ipython",
    "version": 3
   },
   "file_extension": ".py",
   "mimetype": "text/x-python",
   "name": "python",
   "nbconvert_exporter": "python",
   "pygments_lexer": "ipython3",
   "version": "3.13.0"
  }
 },
 "nbformat": 4,
 "nbformat_minor": 2
}

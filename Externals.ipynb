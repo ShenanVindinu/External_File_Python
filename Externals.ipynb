{
 "cells": [
  {
   "cell_type": "code",
   "execution_count": null,
   "metadata": {},
   "outputs": [
    {
     "name": "stdout",
     "output_type": "stream",
     "text": [
      "<_io.TextIOWrapper name='my_file.txt' mode='r' encoding='cp1252'>\n",
      "['Kingdom\\n', 'worlds\\n', 'Bird']\n"
     ]
    }
   ],
   "source": [
    "file_1 = open(\"my_file.txt\",\"r\") #Second para is a mod called read open the file for reading. this is by default.\n",
    "print(file_1)\n",
    "# print(file_1.read())\n",
    "# print(file_1.readline()) #Only reads one line, default it pass \\n line so thats how it works.\n",
    "print(file_1.readlines()) #this returns a list\n",
    "file_1.close() #mandotaroy or resources won't be available"
   ]
  },
  {
   "cell_type": "code",
   "execution_count": 11,
   "metadata": {},
   "outputs": [
    {
     "name": "stdout",
     "output_type": "stream",
     "text": [
      "Kingdom\n",
      "worlds\n",
      "Bird\n"
     ]
    }
   ],
   "source": [
    "with open(\"my_file.txt\",\"r\") as file:\n",
    "    content = file.read()\n",
    "    print(content)\n",
    "    \n",
    "#with command will automatically close the file after operations."
   ]
  },
  {
   "cell_type": "code",
   "execution_count": null,
   "metadata": {},
   "outputs": [
    {
     "name": "stdout",
     "output_type": "stream",
     "text": [
      "Hello world\n",
      "this is our python class\n"
     ]
    }
   ],
   "source": [
    "#file read write and read\n",
    "with open(\"hello.txt\",\"w\") as file:\n",
    "    content2 = file.write(\"Hello world\\nthis is our python class\") #if you change this, the second time it runs and replaces the entire text.\n",
    "    \n",
    "with open(\"hello.txt\",\"r\") as file:\n",
    "    print(file.read())"
   ]
  },
  {
   "cell_type": "code",
   "execution_count": 29,
   "metadata": {},
   "outputs": [
    {
     "name": "stdout",
     "output_type": "stream",
     "text": [
      "Hello world\n",
      "This is our python class\n",
      "Hello world\n",
      "This is our python class\n",
      "This is our world\n"
     ]
    }
   ],
   "source": [
    "#file read write and read\n",
    "with open(\"hello.txt\",\"w\") as file:\n",
    "    lst_1 = [\"Hello world\\n\", \"This is our python class\"]\n",
    "    content2 = file.writelines(lst_1)\n",
    "    \n",
    "with open(\"hello.txt\",\"r\") as file:\n",
    "    print(file.read())\n",
    "\n",
    "with open(\"hello.txt\",\"a\") as file: #append mod updates without destroying\n",
    "    file.write(\"\\nThis is our world\")\n",
    "    \n",
    "with open(\"hello.txt\",\"r\") as file:\n",
    "    print(file.read())"
   ]
  },
  {
   "cell_type": "code",
   "execution_count": null,
   "metadata": {},
   "outputs": [],
   "source": [
    "#implement a simple contact managment system\n",
    "\n",
    "#create a programe that stores and manage contacts in a file named \"contacts.txt\"\n",
    "#each contact entry should include name, phone, and email\n",
    "\n",
    "#features to implement\n",
    "    #add a new contact\n",
    "    #read and display all contacts from the file\n",
    "    #exit the program\n",
    "    \n",
    "#data format - Jhon, 0710086875, jhon@example.com\n",
    "#Also a menu like\n",
    "    #enter option 1 to add a new content\n",
    "    #enter option 2 to add a view contacts\n",
    "    #enter option 3 to exit program\n",
    "    \n",
    "def display_menu():\n",
    "    print(\"Enter option 1 to add a new contact\")\n",
    "    print(\"Enter option 2 to view contacts\")\n",
    "    print(\"Enter option 3 to exit program\")\n",
    "    print(\"\\n\")\n",
    "\n",
    "def add_contact():\n",
    "    name = input(\"Enter name: \")\n",
    "    phone = input(\"Enter phone number: \")\n",
    "    email = input(\"Enter email: \")\n",
    "\n",
    "    with open(\"contacts.txt\", \"a\") as file:\n",
    "        file.write(f\"{name}, {phone}, {email}\\n\")\n",
    "    print(\"Contact added successfully!\")\n",
    "\n",
    "def view_contacts():\n",
    "    try:\n",
    "        with open(\"contacts.txt\", \"r\") as file:\n",
    "            contacts = file.readlines()\n",
    "            if not contacts:\n",
    "                print(\"No contacts found.\")\n",
    "            else:\n",
    "                print(\"Contacts:\")\n",
    "                for contact in contacts:\n",
    "                    print(contact.strip())\n",
    "    except FileNotFoundError:\n",
    "        print(\"No contacts file found. Please add a contact first.\")\n",
    "\n",
    "while True:\n",
    "    display_menu()\n",
    "    choice = input(\"Enter your choice: \")\n",
    "    \n",
    "    if choice == \"1\":\n",
    "        add_contact()\n",
    "    elif choice == \"2\":\n",
    "        view_contacts()\n",
    "    elif choice == \"3\":\n",
    "        print(\"Exiting program. Goodbye!\")\n",
    "        break\n",
    "    else:\n",
    "        print(\"Invalid option, please try again.\")\n",
    "\n",
    "    \n"
   ]
  },
  {
   "cell_type": "code",
   "execution_count": null,
   "metadata": {},
   "outputs": [
    {
     "name": "stdout",
     "output_type": "stream",
     "text": [
      "{'fruit': 'Apple', 'size': 'Large', 'color': 'Red'} <class 'dict'>\n"
     ]
    }
   ],
   "source": [
    "#Read Json\n",
    "import json\n",
    "\n",
    "json_file_path = 'example_1.json'\n",
    "\n",
    "with open(json_file_path, 'r') as json_file:\n",
    "    data = json.load(json_file)\n",
    "    \n",
    "print(data,type(data))"
   ]
  },
  {
   "cell_type": "code",
   "execution_count": 12,
   "metadata": {},
   "outputs": [
    {
     "name": "stdout",
     "output_type": "stream",
     "text": [
      "JSON Data has been written\n"
     ]
    }
   ],
   "source": [
    "import json\n",
    "\n",
    "data = {\n",
    "    \"name\":\"Jhon Nash\",\n",
    "    \"age\":30,\n",
    "    \"city\":\"New York\"\n",
    "}\n",
    "\n",
    "json_file_path = 'example_1.json'\n",
    "\n",
    "with open(json_file_path, 'w') as json_file:\n",
    "    #Serialize\n",
    "    json_data = json.dumps(data, indent=4)\n",
    "    \n",
    "    #Write the JSON-formatted string to the file\n",
    "    json_file.write(json_data)\n",
    "\n",
    "print(f\"JSON Data has been written\")"
   ]
  }
 ],
 "metadata": {
  "kernelspec": {
   "display_name": "Python 3",
   "language": "python",
   "name": "python3"
  },
  "language_info": {
   "codemirror_mode": {
    "name": "ipython",
    "version": 3
   },
   "file_extension": ".py",
   "mimetype": "text/x-python",
   "name": "python",
   "nbconvert_exporter": "python",
   "pygments_lexer": "ipython3",
   "version": "3.13.0"
  }
 },
 "nbformat": 4,
 "nbformat_minor": 2
}

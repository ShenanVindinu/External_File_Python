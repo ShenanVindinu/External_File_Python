{
 "cells": [
  {
   "cell_type": "code",
   "execution_count": 2,
   "metadata": {},
   "outputs": [
    {
     "name": "stdout",
     "output_type": "stream",
     "text": [
      "[2 3 4]\n",
      "<class 'numpy.ndarray'>\n"
     ]
    }
   ],
   "source": [
    "#numpy\n",
    "\n",
    "import numpy as np\n",
    "\n",
    "a = np.array([2,3,4])\n",
    "\n",
    "print(a)\n",
    "print(type(a))"
   ]
  },
  {
   "cell_type": "code",
   "execution_count": 3,
   "metadata": {},
   "outputs": [
    {
     "name": "stdout",
     "output_type": "stream",
     "text": [
      "[ 2  4  6  8 10]\n"
     ]
    }
   ],
   "source": [
    "#Performing Basic Operation\n",
    "#Addition\n",
    "\n",
    "array1 = np.array([1,2,3,4,5])\n",
    "array2 = np.array([1,2,3,4,5])\n",
    "\n",
    "result_addition = array1 + array2\n",
    "\n",
    "print(result_addition)"
   ]
  },
  {
   "cell_type": "code",
   "execution_count": 4,
   "metadata": {},
   "outputs": [
    {
     "name": "stdout",
     "output_type": "stream",
     "text": [
      "[0 0 0 0 0]\n"
     ]
    }
   ],
   "source": [
    "#Substraction\n",
    "\n",
    "array1 = np.array([1,2,3,4,5])\n",
    "array2 = np.array([1,2,3,4,5])\n",
    "\n",
    "result_subtraction = array2 - array1\n",
    "\n",
    "print(result_subtraction)"
   ]
  },
  {
   "cell_type": "code",
   "execution_count": 7,
   "metadata": {},
   "outputs": [
    {
     "name": "stdout",
     "output_type": "stream",
     "text": [
      "[1. 3. 3. 3. 4.]\n"
     ]
    }
   ],
   "source": [
    "#Division\n",
    "\n",
    "array1 = np.array([1,2,3,4,5])\n",
    "array2 = np.array([1,6,9,12,20])\n",
    "\n",
    "result_addition = array2 / array1\n",
    "\n",
    "print(result_addition)"
   ]
  },
  {
   "cell_type": "code",
   "execution_count": 8,
   "metadata": {},
   "outputs": [
    {
     "name": "stdout",
     "output_type": "stream",
     "text": [
      "[ 1  4  9 16 25]\n"
     ]
    }
   ],
   "source": [
    "#Multiplication\n",
    "\n",
    "array1 = np.array([1,2,3,4,5])\n",
    "array2 = np.array([1,2,3,4,5])\n",
    "\n",
    "result_multiplication = array1 * array2\n",
    "\n",
    "print(result_multiplication)"
   ]
  },
  {
   "cell_type": "code",
   "execution_count": 9,
   "metadata": {},
   "outputs": [
    {
     "name": "stdout",
     "output_type": "stream",
     "text": [
      "[1.         1.41421356 1.73205081 2.         2.23606798]\n"
     ]
    }
   ],
   "source": [
    "#Square Root\n",
    "\n",
    "array1 = np.array([1,2,3,4,5])\n",
    "\n",
    "result_sqrt = np.sqrt(array1)\n",
    "\n",
    "print(result_sqrt)"
   ]
  },
  {
   "cell_type": "code",
   "execution_count": 14,
   "metadata": {},
   "outputs": [
    {
     "name": "stdout",
     "output_type": "stream",
     "text": [
      "15\n"
     ]
    }
   ],
   "source": [
    "#Summation\n",
    "\n",
    "array1 = np.array([1,2,3,4,5])\n",
    "array2 = np.array([1,2,3,4,5])\n",
    "\n",
    "result_sum = np.sum(array1)\n",
    "\n",
    "print(result_sum)"
   ]
  },
  {
   "cell_type": "code",
   "execution_count": 17,
   "metadata": {},
   "outputs": [
    {
     "name": "stdout",
     "output_type": "stream",
     "text": [
      "3.0\n"
     ]
    }
   ],
   "source": [
    "#Mean\n",
    "\n",
    "array1 = np.array([1,2,3,4,5])\n",
    "array2 = np.array([1,2,3,4,5])\n",
    "\n",
    "result_mean = np.mean(array1)\n",
    "\n",
    "print(result_mean)"
   ]
  },
  {
   "cell_type": "code",
   "execution_count": 18,
   "metadata": {},
   "outputs": [
    {
     "name": "stdout",
     "output_type": "stream",
     "text": [
      "5\n",
      "1\n"
     ]
    }
   ],
   "source": [
    "#Maximum and Minimum\n",
    "\n",
    "array1 = np.array([1,2,3,4,5])\n",
    "array2 = np.array([1,2,3,4,5])\n",
    "\n",
    "result_max = np.max(array1)\n",
    "result_min = np.min(array2)\n",
    "\n",
    "print(result_max)\n",
    "print(result_min)"
   ]
  },
  {
   "cell_type": "code",
   "execution_count": 24,
   "metadata": {},
   "outputs": [
    {
     "name": "stdout",
     "output_type": "stream",
     "text": [
      "[[[1 2 3]\n",
      "  [1 2 3]]\n",
      "\n",
      " [[3 4 5]\n",
      "  [6 7 8]]] \n",
      "\n",
      "(2, 2, 3)\n"
     ]
    }
   ],
   "source": [
    "#Multi dimensional array\n",
    "\n",
    "#2D array\n",
    "array1 = np.array([ [1, 2, 3], [4, 5, 6] ])\n",
    "\n",
    "# print(array1)\n",
    "# print(array1.size)\n",
    "# print(array1.shape)\n",
    "\n",
    "\n",
    "#3D Array\n",
    "array2 = np.array( [  [ [1,2,3], [1,2,3] ], [ [3,4,5], [6,7,8] ]  ] )\n",
    "\n",
    "print(array2,\"\\n\")\n",
    "\n",
    "#Shape attribute of a NumPy array describes it's dimmensions. It returns a tuple representing the length in each array.\n",
    "print(array2.shape)\n",
    "\n"
   ]
  },
  {
   "cell_type": "code",
   "execution_count": 26,
   "metadata": {},
   "outputs": [
    {
     "name": "stdout",
     "output_type": "stream",
     "text": [
      "float64\n"
     ]
    }
   ],
   "source": [
    "#dtype\n",
    "#find inside array data types\n",
    "\n",
    "array = np.array([1.1, 2, 3])\n",
    "print(array.dtype) #Output: int64"
   ]
  },
  {
   "cell_type": "code",
   "execution_count": 27,
   "metadata": {},
   "outputs": [
    {
     "name": "stdout",
     "output_type": "stream",
     "text": [
      "3\n"
     ]
    }
   ],
   "source": [
    "#ndim\n",
    "#The ndim attribute indicates the number of dimensions (axes ) in the array.\n",
    "\n",
    "array = np.array([ [ [1, 2], [3, 4], [5, 6] ]])\n",
    "print(array.ndim) #output 3"
   ]
  },
  {
   "cell_type": "code",
   "execution_count": 30,
   "metadata": {},
   "outputs": [
    {
     "name": "stdout",
     "output_type": "stream",
     "text": [
      "3\n",
      "2nd element on lst row:  1\n",
      "2nd element on lst row:  2\n"
     ]
    }
   ],
   "source": [
    "#numpy array indexing\n",
    "\n",
    "array_1 = np.array([1, 2, 3, 4])\n",
    "print(array_1[2]) #output is 3\n",
    "\n",
    "array_2 = np.array([[1, 2, 3], [4, 5, 6]])\n",
    "print('2nd element on lst row: ', array_1[0])\n",
    "print('2nd element on lst row: ', array_2[0,1])"
   ]
  },
  {
   "cell_type": "code",
   "execution_count": 39,
   "metadata": {},
   "outputs": [
    {
     "name": "stdout",
     "output_type": "stream",
     "text": [
      "[[11 12 13 14 15]\n",
      " [16 17 18 19 20]\n",
      " [21 22 23 24 25]\n",
      " [26 27 28 29 30]] \n",
      "\n",
      "[[ 2  4  6  8 10]\n",
      " [12 14 16 18 20]\n",
      " [22 24 26 28 30]\n",
      " [32 34 36 38 40]] \n",
      "\n",
      "[[  1   4   9  16  25]\n",
      " [ 36  49  64  81 100]\n",
      " [121 144 169 196 225]\n",
      " [256 289 324 361 400]] \n",
      "\n"
     ]
    }
   ],
   "source": [
    "# create a 2D numpy array which has dimension 4*5 which contends the numbers 1 to 20.\n",
    "# perform the following on this array add 10 to every element.\n",
    "# multiply every element by 2. calculate the square of each element\n",
    "\n",
    "array_22 = np.array([ [1,2,3,4,5], [6,7,8,9,10], [11,12,13,14,15], [16,17,18,19,20]])\n",
    "result_addition = array_22 + 10\n",
    "print(result_addition,\"\\n\")\n",
    "\n",
    "result_multiply = array_22 * 2\n",
    "print(result_multiply,\"\\n\")\n",
    "\n",
    "result_square = array_22 ** 2\n",
    "print(result_square,\"\\n\")"
   ]
  },
  {
   "cell_type": "code",
   "execution_count": 42,
   "metadata": {},
   "outputs": [
    {
     "name": "stdout",
     "output_type": "stream",
     "text": [
      "[False False  True  True  True]\n",
      "[30 40 50]\n"
     ]
    }
   ],
   "source": [
    "#Boolean Indexing in Numpy\n",
    "\n",
    "import numpy as np\n",
    "\n",
    "arr = np.array([10,20,30,40,50])\n",
    "\n",
    "condition = arr > 25\n",
    "\n",
    "print(condition)\n",
    "\n",
    "#Filtering based on condition\n",
    "filtered = arr[arr > 25]\n",
    "\n",
    "print(filtered)"
   ]
  },
  {
   "cell_type": "code",
   "execution_count": 43,
   "metadata": {},
   "outputs": [
    {
     "name": "stdout",
     "output_type": "stream",
     "text": [
      "[30 40]\n"
     ]
    }
   ],
   "source": [
    "#Combining Multiple Conditions\n",
    "\n",
    "arr = np.array([10, 20, 30, 40, 50])\n",
    "\n",
    "filtered_combined = arr[(arr>20) & (arr<50)]\n",
    "print(filtered_combined)"
   ]
  },
  {
   "cell_type": "code",
   "execution_count": 47,
   "metadata": {},
   "outputs": [
    {
     "name": "stdout",
     "output_type": "stream",
     "text": [
      "[0. 0. 0. 0. 0.]\n",
      "[[0. 0. 0.]\n",
      " [0. 0. 0.]]\n"
     ]
    }
   ],
   "source": [
    "#Array Initialization\n",
    "\n",
    "array_1 = np.zeros(5, dtype=float) #dtype for changeing data type to float #[0, 0, 0, 0, 0] 1D\n",
    "print(array_1)\n",
    "\n",
    "array_2 = np.zeros((2,3)) #shape is given here #[ [0, 0, 0, 0, 0], [0, 0, 0, 0, 0] ] 2D\n",
    "print(array_2)\n",
    "\n"
   ]
  },
  {
   "cell_type": "code",
   "execution_count": 49,
   "metadata": {},
   "outputs": [
    {
     "name": "stdout",
     "output_type": "stream",
     "text": [
      "[7 7 7 7] \n",
      "\n",
      "[[8 8 8]\n",
      " [8 8 8]]\n"
     ]
    }
   ],
   "source": [
    "#Using full\n",
    "#This fills the array completly using given value\n",
    "array_1 = np.full(4,7) #[7,7,7,7]\n",
    "print(array_1,\"\\n\")\n",
    "\n",
    "array_2 = np.full((2,3),8) #[7,7,7,7]\n",
    "print(array_2)"
   ]
  },
  {
   "cell_type": "code",
   "execution_count": 50,
   "metadata": {},
   "outputs": [
    {
     "name": "stdout",
     "output_type": "stream",
     "text": [
      "[[4.e-323 4.e-323 4.e-323]\n",
      " [4.e-323 4.e-323 4.e-323]]\n"
     ]
    }
   ],
   "source": [
    "#used to create empty arrays.\n",
    "#values are set from garbage collector\n",
    "#performance and flexibility when using\n",
    "array_1 = np.empty((2,3))\n",
    "print(array_1)"
   ]
  },
  {
   "cell_type": "code",
   "execution_count": 54,
   "metadata": {},
   "outputs": [
    {
     "name": "stdout",
     "output_type": "stream",
     "text": [
      "[ 2  4  6  8 10 12 14 16 18 20]\n"
     ]
    }
   ],
   "source": [
    "# create a 1D numpy array with values form 1 to 20. # use boolean indexing to extract all even numbers\n",
    "\n",
    "array_1 = np.array([1, 2, 3, 4, 5, 6, 7, 8, 9, 10, 11, 12, 13, 14, 15, 16, 17, 18, 19, 20])\n",
    "results = array_1[array_1 % 2 == 0]\n",
    "print(results)\n"
   ]
  },
  {
   "cell_type": "code",
   "execution_count": 56,
   "metadata": {},
   "outputs": [
    {
     "name": "stdout",
     "output_type": "stream",
     "text": [
      "[40 50]\n"
     ]
    }
   ],
   "source": [
    "# create a numpy 1D array with elements 10,20,30,40,50. \n",
    "# use boolean indexing to extract all elements greater than the mean of the array\n",
    "\n",
    "arr = np.array([10,20,30,40,50])\n",
    "mean_ = np.mean(arr) \n",
    "result = arr[arr > mean_]\n",
    "print(result)"
   ]
  },
  {
   "cell_type": "code",
   "execution_count": 5,
   "metadata": {},
   "outputs": [],
   "source": [
    "#Pandas\n",
    "\n",
    "import pandas as pd"
   ]
  },
  {
   "cell_type": "code",
   "execution_count": 4,
   "metadata": {},
   "outputs": [
    {
     "name": "stdout",
     "output_type": "stream",
     "text": [
      "      Name  Age\n",
      "0    Alice   25\n",
      "1      Bob   30\n",
      "2  Charlie   35\n",
      "3    David   40\n",
      "Bob\n",
      "Bob\n"
     ]
    }
   ],
   "source": [
    "#DataFrame\n",
    "\n",
    "import pandas as pd\n",
    "\n",
    "#Creating DataFrame from a dictionary\n",
    "\n",
    "data = {'Name': ['Alice', 'Bob', 'Charlie', 'David'], 'Age':[25, 30, 35, 40]}\n",
    "\n",
    "df = pd.DataFrame(data)\n",
    "\n",
    "print(df)\n",
    "\n",
    "print(df.loc[1, \"Name\"]) #loc to select\n",
    "print(df.iloc[1, 0]) #iloc for access elements by row index and column index\n",
    "print(df.loc[1]) # to access a certain row"
   ]
  },
  {
   "cell_type": "code",
   "execution_count": 5,
   "metadata": {},
   "outputs": [
    {
     "name": "stdout",
     "output_type": "stream",
     "text": [
      "    Name  Age\n",
      "0  Alice   25\n",
      "1    Bob   30\n"
     ]
    }
   ],
   "source": [
    "data = {'Name': ['Alice', 'Bob', 'Charlie', 'David'], 'Age':[25, 30, 35, 40]}\n",
    "\n",
    "print(df.loc[[0,1]]) #Multiple rows"
   ]
  },
  {
   "cell_type": "code",
   "execution_count": 9,
   "metadata": {},
   "outputs": [
    {
     "name": "stdout",
     "output_type": "stream",
     "text": [
      "      Calories  Age\n",
      "day1       420   25\n",
      "day2       380   30\n",
      "day3       390   35 \n",
      "\n",
      "Calories    380\n",
      "Age          30\n",
      "Name: day2, dtype: int64 \n",
      "\n",
      "      Calories  Age\n",
      "day1       420   25\n",
      "day2       380   30 \n",
      "\n",
      "day1    420\n",
      "day2    380\n",
      "day3    390\n",
      "Name: Calories, dtype: int64\n"
     ]
    }
   ],
   "source": [
    "#Named indexes\n",
    "import pandas as pd\n",
    "\n",
    "data = {\"Calories\": [420, 380, 390], \"Age\":[25, 30, 35]}\n",
    "\n",
    "df2 = pd.DataFrame(data, index = [\"day1\", \"day2\", \"day3\"])\n",
    "print(df2,\"\\n\")\n",
    "print(df2.loc[\"day2\"],\"\\n\")\n",
    "print(df2.loc[[\"day1\",\"day2\"]],\"\\n\")\n",
    "print(df2['Calories'])"
   ]
  },
  {
   "cell_type": "code",
   "execution_count": 10,
   "metadata": {},
   "outputs": [
    {
     "name": "stdout",
     "output_type": "stream",
     "text": [
      "(3, 2)\n"
     ]
    }
   ],
   "source": [
    "# Dimensions (Shape)\n",
    "# Returns number of rows and columns\n",
    "\n",
    "data = {\"Calories\": [420, 380, 390], \"Age\":[25, 30, 35]}\n",
    "\n",
    "df2 = pd.DataFrame(data, index = [\"day1\", \"day2\", \"day3\"])\n",
    "\n",
    "print(df2.shape)"
   ]
  },
  {
   "cell_type": "code",
   "execution_count": 12,
   "metadata": {},
   "outputs": [
    {
     "name": "stdout",
     "output_type": "stream",
     "text": [
      "Index(['A', 'B'], dtype='object')\n",
      "list[Index(['Calories', 'Age'], dtype='object')]\n"
     ]
    }
   ],
   "source": [
    "#DataFrame Columns\n",
    "\n",
    "df = pd.DataFrame({'A': [1, 2], 'B': [3, 4]})\n",
    "print(df.columns)\n",
    "print(list[df2.columns])"
   ]
  },
  {
   "cell_type": "code",
   "execution_count": 13,
   "metadata": {},
   "outputs": [
    {
     "name": "stdout",
     "output_type": "stream",
     "text": [
      "4\n"
     ]
    }
   ],
   "source": [
    "#DataFrame size\n",
    "\n",
    "df = pd.DataFrame({'A': [1, 2], 'B': [3, 4]})\n",
    "print(df.size)"
   ]
  },
  {
   "cell_type": "code",
   "execution_count": 16,
   "metadata": {},
   "outputs": [
    {
     "name": "stdout",
     "output_type": "stream",
     "text": [
      "[[1 3]\n",
      " [2 4]] \n",
      "\n",
      "<class 'numpy.ndarray'>\n"
     ]
    }
   ],
   "source": [
    "#Data type\n",
    "\n",
    "df = pd.DataFrame({'A': [1, 2], 'B': [3, 4]})\n",
    "\n",
    "print(df.values,'\\n')\n",
    "print(type(df.values))"
   ]
  },
  {
   "cell_type": "code",
   "execution_count": 8,
   "metadata": {},
   "outputs": [
    {
     "name": "stdout",
     "output_type": "stream",
     "text": [
      "[[1 3 6]\n",
      " [2 4 6]] \n",
      "\n",
      "   A  B  C\n",
      "0  1  3  6\n",
      "1  2  4  6 \n",
      "\n",
      "2\n"
     ]
    }
   ],
   "source": [
    "import pandas as pd\n",
    "df = pd.DataFrame({'A': [1, 2], 'B': [3, 4], 'C': [6, 6]})\n",
    "\n",
    "print(df.values,'\\n')\n",
    "print(df,'\\n')\n",
    "print(len(df)) #amount of rows"
   ]
  },
  {
   "cell_type": "code",
   "execution_count": 21,
   "metadata": {},
   "outputs": [
    {
     "name": "stdout",
     "output_type": "stream",
     "text": [
      "   Order_Id     Product     Category  Quantity  Price_per_Unit Region  \\\n",
      "0       101      Laptop  Electronics         2            1000  North   \n",
      "1       102  SmartPhone  Electronics         5             800  South   \n",
      "2       103  Desk Chair    Furniture        10             150   East   \n",
      "3       104     Monitor  Electronics         4             200   West   \n",
      "4       105   BookShelf    Furniture         2             300  North   \n",
      "\n",
      "   Total Revenue  \n",
      "0           2000  \n",
      "1           4000  \n",
      "2           1500  \n",
      "3            800  \n",
      "4            600  \n",
      "\n",
      "\n",
      "The best selling product is SmartPhone with total revenue of 4000.\n"
     ]
    }
   ],
   "source": [
    "# You are a data analysyst to a company. the company has provided you with the above table containing sales data.\n",
    "# Your task is to analyse the sales data using python and pandas to answer some key business question.\n",
    "\n",
    "    # calculate the total revenue for each order. (add a new coloumn total revenue to store the total revenue for each order)\n",
    "    # Identify the best selling product (find the product with the highest total sales revenue)\n",
    "    \n",
    "data = {\"Order_Id\":[101,102,103,104,105],\n",
    "        \"Product\":[\"Laptop\",\"SmartPhone\",\"Desk Chair\",\"Monitor\",\"BookShelf\"],\n",
    "        \"Category\":[\"Electronics\",\"Electronics\",\"Furniture\",\"Electronics\",\"Furniture\"],\n",
    "        \"Quantity\":[2,5,10,4,2],\n",
    "        \"Price_per_Unit\":[1000,800,150,200,300],\n",
    "        \"Region\":[\"North\",\"South\",\"East\",\"West\",\"North\"]\n",
    "        }\n",
    "\n",
    "df = pd.DataFrame(data)\n",
    "df['Total Revenue'] = df['Quantity'] * df['Price_per_Unit']\n",
    "print(df)\n",
    "\n",
    "product_revenue = df.groupby('Product')['Total Revenue'].sum() # Calculated the total revenue for each product\n",
    "best_selling_product = product_revenue.idxmax() #This finds the column name of the maximum value\n",
    "highest_revenue = product_revenue.max() #this finds the highest revenue\n",
    "\n",
    "\n",
    "print('\\n')    \n",
    "print(f\"The best selling product is {best_selling_product} with total revenue of {highest_revenue}.\")"
   ]
  },
  {
   "cell_type": "code",
   "execution_count": 15,
   "metadata": {},
   "outputs": [
    {
     "name": "stdout",
     "output_type": "stream",
     "text": [
      "Calories    396.666667\n",
      "Age          30.000000\n",
      "dtype: float64\n"
     ]
    }
   ],
   "source": [
    "#Mean\n",
    "data = {\"Calories\": [420, 380, 390], \"Age\":[25, 30, 35]}\n",
    "\n",
    "df = pd.DataFrame(data)\n",
    "print(df.mean())"
   ]
  },
  {
   "cell_type": "code",
   "execution_count": 16,
   "metadata": {},
   "outputs": [
    {
     "name": "stdout",
     "output_type": "stream",
     "text": [
      "Calories    1190\n",
      "Age           90\n",
      "dtype: int64\n"
     ]
    }
   ],
   "source": [
    "#Sum\n",
    "\n",
    "data = {\"Calories\": [420, 380, 390], \"Age\":[25, 30, 35]}\n",
    "\n",
    "df = pd.DataFrame(data)\n",
    "print(df.sum())"
   ]
  },
  {
   "cell_type": "code",
   "execution_count": 17,
   "metadata": {},
   "outputs": [
    {
     "name": "stdout",
     "output_type": "stream",
     "text": [
      "         Calories   Age\n",
      "count    3.000000   3.0\n",
      "mean   396.666667  30.0\n",
      "std     20.816660   5.0\n",
      "min    380.000000  25.0\n",
      "25%    385.000000  27.5\n",
      "50%    390.000000  30.0\n",
      "75%    405.000000  32.5\n",
      "max    420.000000  35.0\n"
     ]
    }
   ],
   "source": [
    "#Describe\n",
    "data = {\"Calories\": [420, 380, 390], \"Age\":[25, 30, 35]}\n",
    "\n",
    "df = pd.DataFrame(data)\n",
    "print(df.describe())"
   ]
  },
  {
   "cell_type": "code",
   "execution_count": 19,
   "metadata": {},
   "outputs": [
    {
     "name": "stdout",
     "output_type": "stream",
     "text": [
      "   Calories  Age\n",
      "1       380   30\n",
      "2       390   35 \n",
      " <class 'pandas.core.frame.DataFrame'>\n"
     ]
    }
   ],
   "source": [
    "#Filtering\n",
    "\n",
    "data = {\"Name\":[\"Alice\",\"Age\",\"Score\"], \"Age\":[24,27,22,32], \"David\":[85,70,90,88]}\n",
    "\n",
    "filtered_df = df[df['Age'] > 25]\n",
    "print(filtered_df,'\\n',type(filtered_df))"
   ]
  }
 ],
 "metadata": {
  "kernelspec": {
   "display_name": "Python 3",
   "language": "python",
   "name": "python3"
  },
  "language_info": {
   "codemirror_mode": {
    "name": "ipython",
    "version": 3
   },
   "file_extension": ".py",
   "mimetype": "text/x-python",
   "name": "python",
   "nbconvert_exporter": "python",
   "pygments_lexer": "ipython3",
   "version": "3.13.0"
  }
 },
 "nbformat": 4,
 "nbformat_minor": 2
}

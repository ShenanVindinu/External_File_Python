{
 "cells": [
  {
   "cell_type": "code",
   "execution_count": 2,
   "metadata": {},
   "outputs": [
    {
     "name": "stdout",
     "output_type": "stream",
     "text": [
      "[2 3 4]\n",
      "<class 'numpy.ndarray'>\n"
     ]
    }
   ],
   "source": [
    "#numpy\n",
    "\n",
    "import numpy as np\n",
    "\n",
    "a = np.array([2,3,4])\n",
    "\n",
    "print(a)\n",
    "print(type(a))"
   ]
  },
  {
   "cell_type": "code",
   "execution_count": 3,
   "metadata": {},
   "outputs": [
    {
     "name": "stdout",
     "output_type": "stream",
     "text": [
      "[ 2  4  6  8 10]\n"
     ]
    }
   ],
   "source": [
    "#Performing Basic Operation\n",
    "#Addition\n",
    "\n",
    "array1 = np.array([1,2,3,4,5])\n",
    "array2 = np.array([1,2,3,4,5])\n",
    "\n",
    "result_addition = array1 + array2\n",
    "\n",
    "print(result_addition)"
   ]
  },
  {
   "cell_type": "code",
   "execution_count": 4,
   "metadata": {},
   "outputs": [
    {
     "name": "stdout",
     "output_type": "stream",
     "text": [
      "[0 0 0 0 0]\n"
     ]
    }
   ],
   "source": [
    "#Substraction\n",
    "\n",
    "array1 = np.array([1,2,3,4,5])\n",
    "array2 = np.array([1,2,3,4,5])\n",
    "\n",
    "result_subtraction = array2 - array1\n",
    "\n",
    "print(result_subtraction)"
   ]
  },
  {
   "cell_type": "code",
   "execution_count": 7,
   "metadata": {},
   "outputs": [
    {
     "name": "stdout",
     "output_type": "stream",
     "text": [
      "[1. 3. 3. 3. 4.]\n"
     ]
    }
   ],
   "source": [
    "#Division\n",
    "\n",
    "array1 = np.array([1,2,3,4,5])\n",
    "array2 = np.array([1,6,9,12,20])\n",
    "\n",
    "result_addition = array2 / array1\n",
    "\n",
    "print(result_addition)"
   ]
  },
  {
   "cell_type": "code",
   "execution_count": 8,
   "metadata": {},
   "outputs": [
    {
     "name": "stdout",
     "output_type": "stream",
     "text": [
      "[ 1  4  9 16 25]\n"
     ]
    }
   ],
   "source": [
    "#Multiplication\n",
    "\n",
    "array1 = np.array([1,2,3,4,5])\n",
    "array2 = np.array([1,2,3,4,5])\n",
    "\n",
    "result_multiplication = array1 * array2\n",
    "\n",
    "print(result_multiplication)"
   ]
  },
  {
   "cell_type": "code",
   "execution_count": 9,
   "metadata": {},
   "outputs": [
    {
     "name": "stdout",
     "output_type": "stream",
     "text": [
      "[1.         1.41421356 1.73205081 2.         2.23606798]\n"
     ]
    }
   ],
   "source": [
    "#Square Root\n",
    "\n",
    "array1 = np.array([1,2,3,4,5])\n",
    "\n",
    "result_sqrt = np.sqrt(array1)\n",
    "\n",
    "print(result_sqrt)"
   ]
  },
  {
   "cell_type": "code",
   "execution_count": 14,
   "metadata": {},
   "outputs": [
    {
     "name": "stdout",
     "output_type": "stream",
     "text": [
      "15\n"
     ]
    }
   ],
   "source": [
    "#Summation\n",
    "\n",
    "array1 = np.array([1,2,3,4,5])\n",
    "array2 = np.array([1,2,3,4,5])\n",
    "\n",
    "result_sum = np.sum(array1)\n",
    "\n",
    "print(result_sum)"
   ]
  },
  {
   "cell_type": "code",
   "execution_count": 17,
   "metadata": {},
   "outputs": [
    {
     "name": "stdout",
     "output_type": "stream",
     "text": [
      "3.0\n"
     ]
    }
   ],
   "source": [
    "#Mean\n",
    "\n",
    "array1 = np.array([1,2,3,4,5])\n",
    "array2 = np.array([1,2,3,4,5])\n",
    "\n",
    "result_mean = np.mean(array1)\n",
    "\n",
    "print(result_mean)"
   ]
  },
  {
   "cell_type": "code",
   "execution_count": 18,
   "metadata": {},
   "outputs": [
    {
     "name": "stdout",
     "output_type": "stream",
     "text": [
      "5\n",
      "1\n"
     ]
    }
   ],
   "source": [
    "#Maximum and Minimum\n",
    "\n",
    "array1 = np.array([1,2,3,4,5])\n",
    "array2 = np.array([1,2,3,4,5])\n",
    "\n",
    "result_max = np.max(array1)\n",
    "result_min = np.min(array2)\n",
    "\n",
    "print(result_max)\n",
    "print(result_min)"
   ]
  },
  {
   "cell_type": "code",
   "execution_count": 20,
   "metadata": {},
   "outputs": [
    {
     "name": "stdout",
     "output_type": "stream",
     "text": [
      "[[1 2 3]\n",
      " [4 5 6]]\n",
      "6\n",
      "(2, 3)\n"
     ]
    }
   ],
   "source": [
    "#Multi dimensional array\n",
    "\n",
    "array1 = np.array([ [1, 2, 3], [4, 5, 6] ])\n",
    "\n",
    "print(array1)\n",
    "\n",
    "print(array1.size)\n",
    "print(array1.shape)\n",
    "\n"
   ]
  }
 ],
 "metadata": {
  "kernelspec": {
   "display_name": "Python 3",
   "language": "python",
   "name": "python3"
  },
  "language_info": {
   "codemirror_mode": {
    "name": "ipython",
    "version": 3
   },
   "file_extension": ".py",
   "mimetype": "text/x-python",
   "name": "python",
   "nbconvert_exporter": "python",
   "pygments_lexer": "ipython3",
   "version": "3.13.0"
  }
 },
 "nbformat": 4,
 "nbformat_minor": 2
}

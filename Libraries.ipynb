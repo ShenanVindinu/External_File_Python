{
 "cells": [
  {
   "cell_type": "code",
   "execution_count": 2,
   "metadata": {},
   "outputs": [
    {
     "name": "stdout",
     "output_type": "stream",
     "text": [
      "[2 3 4]\n",
      "<class 'numpy.ndarray'>\n"
     ]
    }
   ],
   "source": [
    "#numpy\n",
    "\n",
    "import numpy as np\n",
    "\n",
    "a = np.array([2,3,4])\n",
    "\n",
    "print(a)\n",
    "print(type(a))"
   ]
  },
  {
   "cell_type": "code",
   "execution_count": 3,
   "metadata": {},
   "outputs": [
    {
     "name": "stdout",
     "output_type": "stream",
     "text": [
      "[ 2  4  6  8 10]\n"
     ]
    }
   ],
   "source": [
    "#Performing Basic Operation\n",
    "#Addition\n",
    "\n",
    "array1 = np.array([1,2,3,4,5])\n",
    "array2 = np.array([1,2,3,4,5])\n",
    "\n",
    "result_addition = array1 + array2\n",
    "\n",
    "print(result_addition)"
   ]
  },
  {
   "cell_type": "code",
   "execution_count": 4,
   "metadata": {},
   "outputs": [
    {
     "name": "stdout",
     "output_type": "stream",
     "text": [
      "[0 0 0 0 0]\n"
     ]
    }
   ],
   "source": [
    "#Substraction\n",
    "\n",
    "array1 = np.array([1,2,3,4,5])\n",
    "array2 = np.array([1,2,3,4,5])\n",
    "\n",
    "result_subtraction = array2 - array1\n",
    "\n",
    "print(result_subtraction)"
   ]
  },
  {
   "cell_type": "code",
   "execution_count": 7,
   "metadata": {},
   "outputs": [
    {
     "name": "stdout",
     "output_type": "stream",
     "text": [
      "[1. 3. 3. 3. 4.]\n"
     ]
    }
   ],
   "source": [
    "#Division\n",
    "\n",
    "array1 = np.array([1,2,3,4,5])\n",
    "array2 = np.array([1,6,9,12,20])\n",
    "\n",
    "result_addition = array2 / array1\n",
    "\n",
    "print(result_addition)"
   ]
  },
  {
   "cell_type": "code",
   "execution_count": 8,
   "metadata": {},
   "outputs": [
    {
     "name": "stdout",
     "output_type": "stream",
     "text": [
      "[ 1  4  9 16 25]\n"
     ]
    }
   ],
   "source": [
    "#Multiplication\n",
    "\n",
    "array1 = np.array([1,2,3,4,5])\n",
    "array2 = np.array([1,2,3,4,5])\n",
    "\n",
    "result_multiplication = array1 * array2\n",
    "\n",
    "print(result_multiplication)"
   ]
  },
  {
   "cell_type": "code",
   "execution_count": 9,
   "metadata": {},
   "outputs": [
    {
     "name": "stdout",
     "output_type": "stream",
     "text": [
      "[1.         1.41421356 1.73205081 2.         2.23606798]\n"
     ]
    }
   ],
   "source": [
    "#Square Root\n",
    "\n",
    "array1 = np.array([1,2,3,4,5])\n",
    "\n",
    "result_sqrt = np.sqrt(array1)\n",
    "\n",
    "print(result_sqrt)"
   ]
  },
  {
   "cell_type": "code",
   "execution_count": 14,
   "metadata": {},
   "outputs": [
    {
     "name": "stdout",
     "output_type": "stream",
     "text": [
      "15\n"
     ]
    }
   ],
   "source": [
    "#Summation\n",
    "\n",
    "array1 = np.array([1,2,3,4,5])\n",
    "array2 = np.array([1,2,3,4,5])\n",
    "\n",
    "result_sum = np.sum(array1)\n",
    "\n",
    "print(result_sum)"
   ]
  },
  {
   "cell_type": "code",
   "execution_count": 17,
   "metadata": {},
   "outputs": [
    {
     "name": "stdout",
     "output_type": "stream",
     "text": [
      "3.0\n"
     ]
    }
   ],
   "source": [
    "#Mean\n",
    "\n",
    "array1 = np.array([1,2,3,4,5])\n",
    "array2 = np.array([1,2,3,4,5])\n",
    "\n",
    "result_mean = np.mean(array1)\n",
    "\n",
    "print(result_mean)"
   ]
  },
  {
   "cell_type": "code",
   "execution_count": 18,
   "metadata": {},
   "outputs": [
    {
     "name": "stdout",
     "output_type": "stream",
     "text": [
      "5\n",
      "1\n"
     ]
    }
   ],
   "source": [
    "#Maximum and Minimum\n",
    "\n",
    "array1 = np.array([1,2,3,4,5])\n",
    "array2 = np.array([1,2,3,4,5])\n",
    "\n",
    "result_max = np.max(array1)\n",
    "result_min = np.min(array2)\n",
    "\n",
    "print(result_max)\n",
    "print(result_min)"
   ]
  },
  {
   "cell_type": "code",
   "execution_count": 24,
   "metadata": {},
   "outputs": [
    {
     "name": "stdout",
     "output_type": "stream",
     "text": [
      "[[[1 2 3]\n",
      "  [1 2 3]]\n",
      "\n",
      " [[3 4 5]\n",
      "  [6 7 8]]] \n",
      "\n",
      "(2, 2, 3)\n"
     ]
    }
   ],
   "source": [
    "#Multi dimensional array\n",
    "\n",
    "#2D array\n",
    "array1 = np.array([ [1, 2, 3], [4, 5, 6] ])\n",
    "\n",
    "# print(array1)\n",
    "# print(array1.size)\n",
    "# print(array1.shape)\n",
    "\n",
    "\n",
    "#3D Array\n",
    "array2 = np.array( [  [ [1,2,3], [1,2,3] ], [ [3,4,5], [6,7,8] ]  ] )\n",
    "\n",
    "print(array2,\"\\n\")\n",
    "\n",
    "#Shape attribute of a NumPy array describes it's dimmensions. It returns a tuple representing the length in each array.\n",
    "print(array2.shape)\n",
    "\n"
   ]
  },
  {
   "cell_type": "code",
   "execution_count": 26,
   "metadata": {},
   "outputs": [
    {
     "name": "stdout",
     "output_type": "stream",
     "text": [
      "float64\n"
     ]
    }
   ],
   "source": [
    "#dtype\n",
    "#find inside array data types\n",
    "\n",
    "array = np.array([1.1, 2, 3])\n",
    "print(array.dtype) #Output: int64"
   ]
  },
  {
   "cell_type": "code",
   "execution_count": 27,
   "metadata": {},
   "outputs": [
    {
     "name": "stdout",
     "output_type": "stream",
     "text": [
      "3\n"
     ]
    }
   ],
   "source": [
    "#ndim\n",
    "#The ndim attribute indicates the number of dimensions (axes ) in the array.\n",
    "\n",
    "array = np.array([ [ [1, 2], [3, 4], [5, 6] ]])\n",
    "print(array.ndim) #output 3"
   ]
  },
  {
   "cell_type": "code",
   "execution_count": 30,
   "metadata": {},
   "outputs": [
    {
     "name": "stdout",
     "output_type": "stream",
     "text": [
      "3\n",
      "2nd element on lst row:  1\n",
      "2nd element on lst row:  2\n"
     ]
    }
   ],
   "source": [
    "#numpy array indexing\n",
    "\n",
    "array_1 = np.array([1, 2, 3, 4])\n",
    "print(array_1[2]) #output is 3\n",
    "\n",
    "array_2 = np.array([[1, 2, 3], [4, 5, 6]])\n",
    "print('2nd element on lst row: ', array_1[0])\n",
    "print('2nd element on lst row: ', array_2[0,1])"
   ]
  },
  {
   "cell_type": "code",
   "execution_count": 39,
   "metadata": {},
   "outputs": [
    {
     "name": "stdout",
     "output_type": "stream",
     "text": [
      "[[11 12 13 14 15]\n",
      " [16 17 18 19 20]\n",
      " [21 22 23 24 25]\n",
      " [26 27 28 29 30]] \n",
      "\n",
      "[[ 2  4  6  8 10]\n",
      " [12 14 16 18 20]\n",
      " [22 24 26 28 30]\n",
      " [32 34 36 38 40]] \n",
      "\n",
      "[[  1   4   9  16  25]\n",
      " [ 36  49  64  81 100]\n",
      " [121 144 169 196 225]\n",
      " [256 289 324 361 400]] \n",
      "\n"
     ]
    }
   ],
   "source": [
    "# create a 2D numpy array which has dimension 4*5 which contends the numbers 1 to 20.\n",
    "# perform the following on this array add 10 to every element.\n",
    "# multiply every element by 2. calculate the square of each element\n",
    "\n",
    "array_22 = np.array([ [1,2,3,4,5], [6,7,8,9,10], [11,12,13,14,15], [16,17,18,19,20]])\n",
    "result_addition = array_22 + 10\n",
    "print(result_addition,\"\\n\")\n",
    "\n",
    "result_multiply = array_22 * 2\n",
    "print(result_multiply,\"\\n\")\n",
    "\n",
    "result_square = array_22 ** 2\n",
    "print(result_square,\"\\n\")"
   ]
  },
  {
   "cell_type": "code",
   "execution_count": 42,
   "metadata": {},
   "outputs": [
    {
     "name": "stdout",
     "output_type": "stream",
     "text": [
      "[False False  True  True  True]\n",
      "[30 40 50]\n"
     ]
    }
   ],
   "source": [
    "#Boolean Indexing in Numpy\n",
    "\n",
    "import numpy as np\n",
    "\n",
    "arr = np.array([10,20,30,40,50])\n",
    "\n",
    "condition = arr > 25\n",
    "\n",
    "print(condition)\n",
    "\n",
    "#Filtering based on condition\n",
    "filtered = arr[arr > 25]\n",
    "\n",
    "print(filtered)"
   ]
  },
  {
   "cell_type": "code",
   "execution_count": 43,
   "metadata": {},
   "outputs": [
    {
     "name": "stdout",
     "output_type": "stream",
     "text": [
      "[30 40]\n"
     ]
    }
   ],
   "source": [
    "#Combining Multiple Conditions\n",
    "\n",
    "arr = np.array([10, 20, 30, 40, 50])\n",
    "\n",
    "filtered_combined = arr[(arr>20) & (arr<50)]\n",
    "print(filtered_combined)"
   ]
  },
  {
   "cell_type": "code",
   "execution_count": 47,
   "metadata": {},
   "outputs": [
    {
     "name": "stdout",
     "output_type": "stream",
     "text": [
      "[0. 0. 0. 0. 0.]\n",
      "[[0. 0. 0.]\n",
      " [0. 0. 0.]]\n"
     ]
    }
   ],
   "source": [
    "#Array Initialization\n",
    "\n",
    "array_1 = np.zeros(5, dtype=float) #dtype for changeing data type to float #[0, 0, 0, 0, 0] 1D\n",
    "print(array_1)\n",
    "\n",
    "array_2 = np.zeros((2,3)) #shape is given here #[ [0, 0, 0, 0, 0], [0, 0, 0, 0, 0] ] 2D\n",
    "print(array_2)\n",
    "\n"
   ]
  },
  {
   "cell_type": "code",
   "execution_count": 49,
   "metadata": {},
   "outputs": [
    {
     "name": "stdout",
     "output_type": "stream",
     "text": [
      "[7 7 7 7] \n",
      "\n",
      "[[8 8 8]\n",
      " [8 8 8]]\n"
     ]
    }
   ],
   "source": [
    "#Using full\n",
    "#This fills the array completly using given value\n",
    "array_1 = np.full(4,7) #[7,7,7,7]\n",
    "print(array_1,\"\\n\")\n",
    "\n",
    "array_2 = np.full((2,3),8) #[7,7,7,7]\n",
    "print(array_2)"
   ]
  },
  {
   "cell_type": "code",
   "execution_count": 50,
   "metadata": {},
   "outputs": [
    {
     "name": "stdout",
     "output_type": "stream",
     "text": [
      "[[4.e-323 4.e-323 4.e-323]\n",
      " [4.e-323 4.e-323 4.e-323]]\n"
     ]
    }
   ],
   "source": [
    "#used to create empty arrays.\n",
    "#values are set from garbage collector\n",
    "#performance and flexibility when using\n",
    "array_1 = np.empty((2,3))\n",
    "print(array_1)"
   ]
  },
  {
   "cell_type": "code",
   "execution_count": 54,
   "metadata": {},
   "outputs": [
    {
     "name": "stdout",
     "output_type": "stream",
     "text": [
      "[ 2  4  6  8 10 12 14 16 18 20]\n"
     ]
    }
   ],
   "source": [
    "# create a 1D numpy array with values form 1 to 20. # use boolean indexing to extract all even numbers\n",
    "\n",
    "array_1 = np.array([1, 2, 3, 4, 5, 6, 7, 8, 9, 10, 11, 12, 13, 14, 15, 16, 17, 18, 19, 20])\n",
    "results = array_1[array_1 % 2 == 0]\n",
    "print(results)\n"
   ]
  },
  {
   "cell_type": "code",
   "execution_count": 56,
   "metadata": {},
   "outputs": [
    {
     "name": "stdout",
     "output_type": "stream",
     "text": [
      "[40 50]\n"
     ]
    }
   ],
   "source": [
    "# create a numpy 1D array with elements 10,20,30,40,50. \n",
    "# use boolean indexing to extract all elements greater than the mean of the array\n",
    "\n",
    "arr = np.array([10,20,30,40,50])\n",
    "mean_ = np.mean(arr) \n",
    "result = arr[arr > mean_]\n",
    "print(result)"
   ]
  },
  {
   "cell_type": "code",
   "execution_count": 5,
   "metadata": {},
   "outputs": [],
   "source": [
    "#Pandas\n",
    "\n",
    "import pandas as pd"
   ]
  },
  {
   "cell_type": "code",
   "execution_count": 4,
   "metadata": {},
   "outputs": [
    {
     "name": "stdout",
     "output_type": "stream",
     "text": [
      "      Name  Age\n",
      "0    Alice   25\n",
      "1      Bob   30\n",
      "2  Charlie   35\n",
      "3    David   40\n",
      "Bob\n",
      "Bob\n"
     ]
    }
   ],
   "source": [
    "#DataFrame\n",
    "\n",
    "import pandas as pd\n",
    "\n",
    "#Creating DataFrame from a dictionary\n",
    "\n",
    "data = {'Name': ['Alice', 'Bob', 'Charlie', 'David'], 'Age':[25, 30, 35, 40]}\n",
    "\n",
    "df = pd.DataFrame(data)\n",
    "\n",
    "print(df)\n",
    "\n",
    "print(df.loc[1, \"Name\"]) #loc to select\n",
    "print(df.iloc[1, 0]) #iloc for access elements by row index and column index\n",
    "print(df.loc[1]) # to access a certain row"
   ]
  },
  {
   "cell_type": "code",
   "execution_count": 5,
   "metadata": {},
   "outputs": [
    {
     "name": "stdout",
     "output_type": "stream",
     "text": [
      "    Name  Age\n",
      "0  Alice   25\n",
      "1    Bob   30\n"
     ]
    }
   ],
   "source": [
    "data = {'Name': ['Alice', 'Bob', 'Charlie', 'David'], 'Age':[25, 30, 35, 40]}\n",
    "\n",
    "print(df.loc[[0,1]]) #Multiple rows"
   ]
  },
  {
   "cell_type": "code",
   "execution_count": 6,
   "metadata": {},
   "outputs": [
    {
     "name": "stdout",
     "output_type": "stream",
     "text": [
      "      Calories  Age\n",
      "day1       420   25\n",
      "day2       380   30\n",
      "day3       390   35 \n",
      "\n",
      "Calories    380\n",
      "Age          30\n",
      "Name: day2, dtype: int64 \n",
      "\n",
      "      Calories  Age\n",
      "day1       420   25\n",
      "day2       380   30 \n",
      "\n"
     ]
    }
   ],
   "source": [
    "#Named indexes\n",
    "import pandas as pd\n",
    "\n",
    "data = {\"Calories\": [420, 380, 390], \"Age\":[25, 30, 35]}\n",
    "\n",
    "df = pd.DataFrame(data, index = [\"day1\", \"day2\", \"day3\"])\n",
    "print(df,\"\\n\")\n",
    "print(df.loc[\"day2\"],\"\\n\")\n",
    "print(df.loc[[\"day1\",\"day2\"]],\"\\n\")"
   ]
  }
 ],
 "metadata": {
  "kernelspec": {
   "display_name": "Python 3",
   "language": "python",
   "name": "python3"
  },
  "language_info": {
   "codemirror_mode": {
    "name": "ipython",
    "version": 3
   },
   "file_extension": ".py",
   "mimetype": "text/x-python",
   "name": "python",
   "nbconvert_exporter": "python",
   "pygments_lexer": "ipython3",
   "version": "3.13.0"
  }
 },
 "nbformat": 4,
 "nbformat_minor": 2
}
